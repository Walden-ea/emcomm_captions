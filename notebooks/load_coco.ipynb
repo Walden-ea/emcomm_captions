{
 "cells": [
  {
   "cell_type": "code",
   "execution_count": 13,
   "id": "296efa15",
   "metadata": {},
   "outputs": [],
   "source": [
    "from datasets import load_dataset, Dataset\n"
   ]
  },
  {
   "cell_type": "code",
   "execution_count": null,
   "id": "6e28f08a",
   "metadata": {},
   "outputs": [],
   "source": [
    "ds = load_dataset(\"phiyodr/coco2017\")"
   ]
  },
  {
   "cell_type": "code",
   "execution_count": null,
   "id": "ffc1d80f",
   "metadata": {},
   "outputs": [
    {
     "name": "stderr",
     "output_type": "stream",
     "text": [
      "Saving the dataset (1/1 shards): 100%|██████████| 118287/118287 [00:00<00:00, 157349.30 examples/s]\n",
      "Saving the dataset (1/1 shards): 100%|██████████| 5000/5000 [00:00<00:00, 125094.07 examples/s]\n"
     ]
    }
   ],
   "source": [
    "ds.save_to_disk(\"../coco2017_dataset\")"
   ]
  },
  {
   "cell_type": "code",
   "execution_count": 5,
   "id": "49cc9514",
   "metadata": {},
   "outputs": [
    {
     "data": {
      "text/plain": [
       "Dataset({\n",
       "    features: ['license', 'file_name', 'coco_url', 'height', 'width', 'date_captured', 'flickr_url', 'image_id', 'ids', 'captions'],\n",
       "    num_rows: 5000\n",
       "})"
      ]
     },
     "execution_count": 5,
     "metadata": {},
     "output_type": "execute_result"
    }
   ],
   "source": [
    "from datasets import load_from_disk\n",
    "\n",
    "\n",
    "\n",
    "ds = load_from_disk(\"../coco2017_dataset\")\n",
    "ds = ds['validation']\n",
    "ds"
   ]
  },
  {
   "cell_type": "code",
   "execution_count": 11,
   "id": "8abc5ce9",
   "metadata": {},
   "outputs": [
    {
     "data": {
      "text/plain": [
       "Dataset({\n",
       "    features: ['coco_url', 'captions'],\n",
       "    num_rows: 5000\n",
       "})"
      ]
     },
     "execution_count": 11,
     "metadata": {},
     "output_type": "execute_result"
    }
   ],
   "source": [
    "ds = ds.select_columns(['coco_url', 'captions'])\n",
    "ds"
   ]
  },
  {
   "cell_type": "code",
   "execution_count": 12,
   "id": "bb5c8967",
   "metadata": {},
   "outputs": [
    {
     "name": "stderr",
     "output_type": "stream",
     "text": [
      "Map (num_proc=24): 100%|██████████| 5000/5000 [02:17<00:00, 36.34 examples/s]\n"
     ]
    },
    {
     "data": {
      "text/plain": [
       "Dataset({\n",
       "    features: ['coco_url', 'captions', 'image'],\n",
       "    num_rows: 5000\n",
       "})"
      ]
     },
     "execution_count": 12,
     "metadata": {},
     "output_type": "execute_result"
    }
   ],
   "source": [
    "def load_image(example):\n",
    "    from PIL import Image\n",
    "    import requests\n",
    "    from io import BytesIO\n",
    "\n",
    "    response = requests.get(example['coco_url'])\n",
    "    example['image'] = Image.open(BytesIO(response.content))\n",
    "    return example\n",
    "\n",
    "\n",
    "ds = ds.map(load_image, num_proc = 24)\n",
    "ds"
   ]
  },
  {
   "cell_type": "code",
   "execution_count": 17,
   "id": "9542e8ae",
   "metadata": {},
   "outputs": [
    {
     "name": "stderr",
     "output_type": "stream",
     "text": [
      "Saving the dataset (0/1 shards):   0%|          | 0/5000 [00:00<?, ? examples/s]"
     ]
    },
    {
     "name": "stderr",
     "output_type": "stream",
     "text": [
      "Saving the dataset (1/1 shards): 100%|██████████| 5000/5000 [00:02<00:00, 2163.58 examples/s] \n"
     ]
    }
   ],
   "source": [
    "\n",
    "ds.save_to_disk(\"./coco_val_images\")"
   ]
  },
  {
   "cell_type": "code",
   "execution_count": 19,
   "id": "f02fcba6",
   "metadata": {},
   "outputs": [],
   "source": [
    "ds_val = load_from_disk(\"./coco_val_images\")"
   ]
  },
  {
   "cell_type": "code",
   "execution_count": 28,
   "id": "fd1fc74e",
   "metadata": {},
   "outputs": [],
   "source": [
    "from matplotlib import pyplot as plt\n",
    "# plt.imshow(ds_val['image'][0])"
   ]
  },
  {
   "cell_type": "code",
   "execution_count": null,
   "id": "3b7693b4",
   "metadata": {},
   "outputs": [],
   "source": []
  },
  {
   "cell_type": "code",
   "execution_count": null,
   "id": "fe74ff77",
   "metadata": {},
   "outputs": [],
   "source": []
  }
 ],
 "metadata": {
  "kernelspec": {
   "display_name": "emcomm",
   "language": "python",
   "name": "python3"
  },
  "language_info": {
   "codemirror_mode": {
    "name": "ipython",
    "version": 3
   },
   "file_extension": ".py",
   "mimetype": "text/x-python",
   "name": "python",
   "nbconvert_exporter": "python",
   "pygments_lexer": "ipython3",
   "version": "3.12.11"
  }
 },
 "nbformat": 4,
 "nbformat_minor": 5
}
