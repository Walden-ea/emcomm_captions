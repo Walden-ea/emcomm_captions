{
 "cells": [
  {
   "cell_type": "code",
   "execution_count": 1,
   "id": "7115928b",
   "metadata": {},
   "outputs": [
    {
     "name": "stderr",
     "output_type": "stream",
     "text": [
      "/home/elena/miniconda/envs/emcomm/lib/python3.12/site-packages/tqdm/auto.py:21: TqdmWarning: IProgress not found. Please update jupyter and ipywidgets. See https://ipywidgets.readthedocs.io/en/stable/user_install.html\n",
      "  from .autonotebook import tqdm as notebook_tqdm\n"
     ]
    }
   ],
   "source": [
    "from datasets import load_from_disk, Dataset\n",
    "import torch, sys\n",
    "sys.path.append(\"../../\")\n",
    "# sys.path.append(\"../../src\")\n",
    "# sys.path.append(\"../../../src\")\n",
    "# sys.path.append(\"../src\")\n",
    "# sys.path.append(\"..\")\n",
    "%load_ext autoreload\n",
    "%autoreload 2\n"
   ]
  },
  {
   "cell_type": "code",
   "execution_count": 2,
   "id": "c5910da2",
   "metadata": {},
   "outputs": [],
   "source": [
    "from src.captions_game.features import CaptionsLoader"
   ]
  },
  {
   "cell_type": "code",
   "execution_count": 3,
   "id": "bc442dae",
   "metadata": {},
   "outputs": [
    {
     "data": {
      "text/plain": [
       "Dataset({\n",
       "    features: ['captions', 'features'],\n",
       "    num_rows: 5000\n",
       "})"
      ]
     },
     "execution_count": 3,
     "metadata": {},
     "output_type": "execute_result"
    }
   ],
   "source": [
    "ds = load_from_disk(\"../../../datasets/coco_val_features\")\n",
    "ds"
   ]
  },
  {
   "cell_type": "code",
   "execution_count": 21,
   "id": "88630009",
   "metadata": {},
   "outputs": [
    {
     "data": {
      "text/plain": [
       "1000"
      ]
     },
     "execution_count": 21,
     "metadata": {},
     "output_type": "execute_result"
    }
   ],
   "source": [
    "len(ds['features'][0])\n"
   ]
  },
  {
   "cell_type": "code",
   "execution_count": 4,
   "id": "27fbd658",
   "metadata": {},
   "outputs": [
    {
     "data": {
      "text/plain": [
       "<src.captions_game.features.CaptionsLoader at 0x7f0145f2d0a0>"
      ]
     },
     "execution_count": 4,
     "metadata": {},
     "output_type": "execute_result"
    }
   ],
   "source": [
    "from collections import namedtuple\n",
    "\n",
    "LoaderConfig = namedtuple('LoaderConfig', ['batch_size', 'game_size'])\n",
    "config = LoaderConfig(batch_size=32, game_size=5)\n",
    "\n",
    "cl = CaptionsLoader(ds, opt=config, seed=0, batches_per_epoch=1)\n",
    "cl"
   ]
  },
  {
   "cell_type": "code",
   "execution_count": 24,
   "id": "00be0ea7",
   "metadata": {},
   "outputs": [
    {
     "data": {
      "text/plain": [
       "1000"
      ]
     },
     "execution_count": 24,
     "metadata": {},
     "output_type": "execute_result"
    }
   ],
   "source": [
    "len(ds['features'][0])"
   ]
  },
  {
   "cell_type": "code",
   "execution_count": 19,
   "id": "45ed4a53",
   "metadata": {},
   "outputs": [
    {
     "name": "stdout",
     "output_type": "stream",
     "text": [
      "torch.Size([5, 32, 1000])\n",
      "torch.Size([32])\n",
      "torch.Size([5, 32, 1000])\n"
     ]
    }
   ],
   "source": [
    "# Test that cl dataloader works by fetching one batch\n",
    "batch = next(iter(cl))\n",
    "print(batch[0].shape)\n",
    "print(batch[1].shape)\n",
    "print(batch[2].shape)"
   ]
  },
  {
   "cell_type": "code",
   "execution_count": null,
   "id": "85d307cd",
   "metadata": {},
   "outputs": [],
   "source": []
  }
 ],
 "metadata": {
  "kernelspec": {
   "display_name": "emcomm",
   "language": "python",
   "name": "python3"
  },
  "language_info": {
   "codemirror_mode": {
    "name": "ipython",
    "version": 3
   },
   "file_extension": ".py",
   "mimetype": "text/x-python",
   "name": "python",
   "nbconvert_exporter": "python",
   "pygments_lexer": "ipython3",
   "version": "3.12.11"
  }
 },
 "nbformat": 4,
 "nbformat_minor": 5
}
